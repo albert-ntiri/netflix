{
 "cells": [
  {
   "cell_type": "markdown",
   "metadata": {},
   "source": [
    "# Netflix TV Shows & Movies - Deep Dive"
   ]
  },
  {
   "cell_type": "markdown",
   "metadata": {},
   "source": [
    "## Set Up Environment"
   ]
  },
  {
   "cell_type": "code",
   "execution_count": null,
   "metadata": {},
   "outputs": [],
   "source": [
    "# Import libraries.\n",
    "import pandas as pd\n",
    "import numpy as np\n",
    "import matplotlib.pyplot as plt\n",
    "%matplotlib inline"
   ]
  },
  {
   "cell_type": "code",
   "execution_count": null,
   "metadata": {},
   "outputs": [],
   "source": [
    "# Read in CSV files into a pandas dataframes.\n",
    "netflix = pd.read_csv('data/netflix_titles_clean.csv')\n",
    "movies = pd.read_csv('data/netflix_movies_clean.csv')\n",
    "tv_shows = pd.read_csv('data/netflix_tv_shows_clean.csv')"
   ]
  },
  {
   "cell_type": "markdown",
   "metadata": {},
   "source": [
    "## Analysis: Deep Dive"
   ]
  },
  {
   "cell_type": "markdown",
   "metadata": {},
   "source": [
    "### Possible Analyses with this Dataset\n",
    "#### Overview\n",
    "1. Change in number of shows/movies available over time.\n",
    "2. Proportion of shows vs movies.\n",
    "3. Number of directors, cast members, countries available, and genres.\n",
    "4. Average lengths for movies and tenure for shows.\n",
    "5. Most and least common countries, genres, ratings, directors, and cast members.\n",
    "\n",
    "#### Deep Dive\n",
    "6. Length of cast by country.\n",
    "7. Proportion of shows vs movies by country.\n",
    "8. Range of directors in terms of number of countries.\n",
    "9. Average movie length by genre and country.\n",
    "10. TV show tenure by genre.\n",
    "11. Deeper dive into specific regions (e.g. Africa).\n",
    "\n",
    "#### Natural Language Processing\n",
    "12. Most common words in descriptions overall and by genre."
   ]
  },
  {
   "cell_type": "markdown",
   "metadata": {},
   "source": [
    "### 6. Length of cast by country."
   ]
  },
  {
   "cell_type": "code",
   "execution_count": null,
   "metadata": {},
   "outputs": [],
   "source": [
    "netflix[['country','cast_size']]"
   ]
  },
  {
   "cell_type": "code",
   "execution_count": null,
   "metadata": {},
   "outputs": [],
   "source": [
    "# Create a unique list of countries.\n",
    "countries_list = []\n",
    "for entry in list(netflix.country_list):\n",
    "    for x in entry:\n",
    "        if x not in countries_list:\n",
    "            countries_list.append(x)\n",
    "\n",
    "countries_list"
   ]
  },
  {
   "cell_type": "code",
   "execution_count": null,
   "metadata": {},
   "outputs": [],
   "source": [
    "# Calculate the average cast size for each country.\n",
    "cast_sizes_by_country = {}\n",
    "for c in countries_list:\n",
    "    indexes = []\n",
    "    for i in list(netflix.index):\n",
    "        countries = netflix.loc[i, 'country_list']\n",
    "        if c in countries:\n",
    "            indexes.append(i)\n",
    "    subset_df = netflix.loc[indexes, :]\n",
    "    avg_cast_size = round(subset_df.cast_size.mean(), 2)\n",
    "    cast_sizes_by_country[c] = avg_cast_size\n",
    "\n",
    "cast_sizes_by_country"
   ]
  },
  {
   "cell_type": "code",
   "execution_count": null,
   "metadata": {},
   "outputs": [],
   "source": [
    "country_data = pd.DataFrame(pd.Series(cast_sizes_by_country), columns=['avg_cast_size'])\n",
    "country_data"
   ]
  },
  {
   "cell_type": "code",
   "execution_count": null,
   "metadata": {},
   "outputs": [],
   "source": [
    "# Countries with the highest and lowest average cast size.\n",
    "country_data.sort_values(by='avg_cast_size', ascending=False)"
   ]
  },
  {
   "cell_type": "markdown",
   "metadata": {},
   "source": [
    "### 7. Proportion of shows vs movies by country."
   ]
  },
  {
   "cell_type": "code",
   "execution_count": null,
   "metadata": {},
   "outputs": [],
   "source": [
    "country_data.head()"
   ]
  },
  {
   "cell_type": "code",
   "execution_count": null,
   "metadata": {},
   "outputs": [],
   "source": [
    "# Calculate the number of tv shows and movies there are from each country.\n",
    "tv_shows_by_country = {}\n",
    "movies_by_country = {}\n",
    "for c in countries_list:\n",
    "    indexes = []\n",
    "    for i in list(netflix.index):\n",
    "        countries = netflix.loc[i, 'country_list']\n",
    "        if c in countries:\n",
    "            indexes.append(i)\n",
    "    subset_df = netflix.loc[indexes, :]\n",
    "    tv_show_count = len(subset_df[subset_df.type == 'TV Show'])\n",
    "    movie_count = len(subset_df[subset_df.type == 'Movie'])\n",
    "    tv_shows_by_country[c] = tv_show_count\n",
    "    movies_by_country[c] = movie_count\n",
    "\n",
    "tv_shows_by_country"
   ]
  },
  {
   "cell_type": "code",
   "execution_count": null,
   "metadata": {},
   "outputs": [],
   "source": [
    "# Add tv and movie counts to 'country_data' dataframe.\n",
    "country_data['tv_count'] = country_data.index.map(tv_shows_by_country)\n",
    "country_data['movie_count'] = country_data.index.map(movies_by_country)\n",
    "country_data.head()"
   ]
  },
  {
   "cell_type": "code",
   "execution_count": null,
   "metadata": {},
   "outputs": [],
   "source": [
    "# Calculate percent of entries that are tv shows and movies for each country.\n",
    "country_data['tv_percent'] = country_data.tv_count / (country_data.tv_count + country_data.movie_count) * 100\n",
    "country_data['movie_percent'] = country_data.movie_count / (country_data.tv_count + country_data.movie_count) * 100\n",
    "country_data.head()"
   ]
  },
  {
   "cell_type": "markdown",
   "metadata": {},
   "source": [
    "### 8. Range of directors in terms of number of countries."
   ]
  },
  {
   "cell_type": "code",
   "execution_count": null,
   "metadata": {},
   "outputs": [],
   "source": [
    "# Create a unique list of directors.\n",
    "directors_list = []\n",
    "for entry in list(netflix.director_list):\n",
    "    for x in entry:\n",
    "        if x not in directors_list:\n",
    "            directors_list.append(x)\n",
    "\n",
    "directors_list"
   ]
  },
  {
   "cell_type": "code",
   "execution_count": null,
   "metadata": {},
   "outputs": [],
   "source": [
    "# Calculate the number of netflix tv shows and movies each director has directed.\n",
    "country_count_by_director = {}\n",
    "for d in directors_list:\n",
    "    indexes = []\n",
    "    for i in list(netflix.index):\n",
    "        directors = netflix.loc[i, 'director_list']\n",
    "        if d in directors:\n",
    "            indexes.append(i)\n",
    "    subset_df = netflix.loc[indexes, :]\n",
    "    country_count = {}\n",
    "    for entry in subset_df.country.unique():\n",
    "        for x in entry:\n",
    "            if x not in country_count:\n",
    "                country_count[x] = 1\n",
    "            else:\n",
    "                country_count[x] += 1\n",
    "    \n",
    "    country_count_by_director[d] = len(country_count)\n",
    "\n",
    "country_count_by_director"
   ]
  },
  {
   "cell_type": "code",
   "execution_count": null,
   "metadata": {},
   "outputs": [],
   "source": [
    "# Directors with the highest number of tv shows and movies on Netflix.\n",
    "pd.Series(country_count_by_director).sort_values(ascending=False)[1:11]"
   ]
  },
  {
   "cell_type": "markdown",
   "metadata": {},
   "source": [
    "### 9. Average movie length by genre and country."
   ]
  },
  {
   "cell_type": "code",
   "execution_count": null,
   "metadata": {},
   "outputs": [],
   "source": [
    "movies.head(2)"
   ]
  },
  {
   "cell_type": "code",
   "execution_count": null,
   "metadata": {},
   "outputs": [],
   "source": [
    "# Shortest Netflix movies.\n",
    "movies[movies.duration < 10]"
   ]
  },
  {
   "cell_type": "code",
   "execution_count": null,
   "metadata": {},
   "outputs": [],
   "source": [
    "# Longest Netflix movies.\n",
    "movies[movies.duration > 240]"
   ]
  },
  {
   "cell_type": "code",
   "execution_count": null,
   "metadata": {},
   "outputs": [],
   "source": [
    "# Create a unique list of genres.\n",
    "genres_list = []\n",
    "for entry in list(netflix.listed_in_list):\n",
    "    for x in entry:\n",
    "        if x not in genres_list:\n",
    "            genres_list.append(x)\n",
    "\n",
    "genres_list"
   ]
  },
  {
   "cell_type": "code",
   "execution_count": null,
   "metadata": {},
   "outputs": [],
   "source": [
    "# Calculate the number of movies and their average duration for each genre.\n",
    "count_by_genre_movie = {}\n",
    "avg_duration_by_genre = {}\n",
    "for g in genres_list:\n",
    "    indexes = []\n",
    "    for i in list(movies.index):\n",
    "        genres = movies.loc[i, 'listed_in_list']\n",
    "        if g in genres:\n",
    "            indexes.append(i)\n",
    "    subset_df = movies.loc[indexes, :]\n",
    "    count = len(subset_df)\n",
    "    avg_duration = subset_df.duration.mean()\n",
    "    count_by_genre_movie[g] = count\n",
    "    avg_duration_by_genre[g] = avg_duration\n",
    "\n",
    "genre_duration = pd.DataFrame(pd.Series(avg_duration_by_genre), columns=['avg_duration'])\n",
    "genre_duration['movie_count'] = genre_duration.index.map(count_by_genre_movie)\n",
    "genre_duration.dropna(inplace=True)\n",
    "genre_duration.sort_values(by='avg_duration', inplace=True)\n",
    "genre_duration"
   ]
  },
  {
   "cell_type": "code",
   "execution_count": null,
   "metadata": {},
   "outputs": [],
   "source": [
    "genre_duration.avg_duration.sort_values(ascending=False).plot.barh(figsize=(6,6), title='Average Movie Length by Genre (in minutes)')"
   ]
  },
  {
   "cell_type": "code",
   "execution_count": null,
   "metadata": {},
   "outputs": [],
   "source": [
    "# Calculate the number of movies and their average duration for each country.\n",
    "avg_duration_by_country = {}\n",
    "for c in countries_list:\n",
    "    indexes = []\n",
    "    for i in list(movies.index):\n",
    "        countries = movies.loc[i, 'country_list']\n",
    "        if c in countries:\n",
    "            indexes.append(i)\n",
    "    subset_df = movies.loc[indexes, :]\n",
    "    avg_duration = subset_df.duration.mean()\n",
    "    avg_duration_by_country[c] = avg_duration\n",
    "\n",
    "country_duration = pd.DataFrame(pd.Series(avg_duration_by_country), columns=['avg_duration'])\n",
    "country_duration['movie_count'] = country_duration.index.map(movies_by_country)\n",
    "country_duration.dropna(inplace=True)\n",
    "country_duration.sort_values(by='avg_duration', inplace=True)\n",
    "country_duration"
   ]
  },
  {
   "cell_type": "code",
   "execution_count": null,
   "metadata": {},
   "outputs": [],
   "source": [
    "country_duration[country_duration.movie_count >= 5].avg_duration.sort_values(ascending=False).plot.barh(\n",
    "    figsize=(8,16), title='Average Movie Length by Country (in minutes)')"
   ]
  },
  {
   "cell_type": "markdown",
   "metadata": {},
   "source": [
    "### 10. TV show tenure by genre."
   ]
  },
  {
   "cell_type": "code",
   "execution_count": null,
   "metadata": {},
   "outputs": [],
   "source": [
    "tv_shows.head(2)"
   ]
  },
  {
   "cell_type": "code",
   "execution_count": null,
   "metadata": {},
   "outputs": [],
   "source": [
    "# Frequency distribution of tv shows by number of seasons.\n",
    "tv_shows.duration.value_counts()"
   ]
  },
  {
   "cell_type": "code",
   "execution_count": null,
   "metadata": {},
   "outputs": [],
   "source": [
    "# Longest tenured tv show on Netflix.\n",
    "tv_shows[tv_shows.duration == '16 Seasons']"
   ]
  },
  {
   "cell_type": "code",
   "execution_count": null,
   "metadata": {},
   "outputs": [],
   "source": [
    "# Create a dataframe with the number of tv shows for each genre and length by seasons.\n",
    "count_by_genre_tv = {}\n",
    "length_dist_by_genre = {}\n",
    "for g in genres_list:\n",
    "    indexes = []\n",
    "    for i in list(tv_shows.index):\n",
    "        genres = tv_shows.loc[i, 'listed_in_list']\n",
    "        if g in genres:\n",
    "            indexes.append(i)\n",
    "    subset_df = tv_shows.loc[indexes, :]\n",
    "    count = len(subset_df)\n",
    "    length_dist = dict(subset_df.duration.value_counts())\n",
    "    count_by_genre_tv[g] = count\n",
    "    length_dist_by_genre[g] = length_dist\n",
    "\n",
    "tv_genre_season = pd.DataFrame.from_dict(length_dist_by_genre, orient='index')\n",
    "tv_genre_season_cols = [\n",
    "    '1 Season',\n",
    "    '2 Seasons',\n",
    "    '3 Seasons',\n",
    "    '4 Seasons',\n",
    "    '5 Seasons',\n",
    "    '6 Seasons',\n",
    "    '7 Seasons',\n",
    "    '8 Seasons',\n",
    "    '9 Seasons',\n",
    "    '10 Seasons',\n",
    "    '11 Seasons',\n",
    "    '12 Seasons',\n",
    "    '13 Seasons',\n",
    "    '15 Seasons',\n",
    "    '16 Seasons',\n",
    "]\n",
    "tv_genre_season = tv_genre_season.reindex(columns=tv_genre_season_cols)\n",
    "tv_genre_season['total'] = tv_genre_season.index.map(count_by_genre_tv)\n",
    "tv_genre_season.fillna(0, inplace=True)\n",
    "tv_genre_season = tv_genre_season.astype('int')\n",
    "tv_genre_season.sort_values(by='total', ascending=False, inplace=True)\n",
    "tv_genre_season"
   ]
  },
  {
   "cell_type": "code",
   "execution_count": null,
   "metadata": {},
   "outputs": [],
   "source": [
    "# Aggregate columns for 4 or more seasons into 1 summary column.\n",
    "four_plus_seasons = [\n",
    "    '4 Seasons',\n",
    "    '5 Seasons',\n",
    "    '6 Seasons',\n",
    "    '7 Seasons',\n",
    "    '8 Seasons',\n",
    "    '9 Seasons',\n",
    "    '10 Seasons',\n",
    "    '11 Seasons',\n",
    "    '12 Seasons',\n",
    "    '13 Seasons',\n",
    "    '15 Seasons',\n",
    "    '16 Seasons',\n",
    "]\n",
    "over_four_season_sum = tv_genre_season[four_plus_seasons].sum(axis=1)\n",
    "tv_genre_season_pct = tv_genre_season[['1 Season','2 Seasons','3 Seasons']].copy()\n",
    "tv_genre_season_pct['4+ Seasons'] = over_four_season_sum\n",
    "tv_genre_season_pct['total'] = tv_genre_season.total\n",
    "tv_genre_season_pct"
   ]
  },
  {
   "cell_type": "code",
   "execution_count": null,
   "metadata": {},
   "outputs": [],
   "source": [
    "# Calculate percentages by # of seasons for each genre and add to dataframe.\n",
    "tgsp_norm_cols = tv_genre_season_pct.columns.tolist()\n",
    "tgsp_norm_cols.remove('total')\n",
    "tgsp_norm_cols\n",
    "for col in tgsp_norm_cols:\n",
    "    tv_genre_season_pct['{}_pct'.format(col)] = tv_genre_season_pct[col] / tv_genre_season_pct.total * 100\n",
    "\n",
    "tv_genre_season_pct = tv_genre_season_pct.reindex(columns=[\n",
    "    '1 Season',\n",
    "    '1 Season_pct',\n",
    "    '2 Seasons',\n",
    "    '2 Seasons_pct',\n",
    "    '3 Seasons',\n",
    "    '3 Seasons_pct',\n",
    "    '4+ Seasons',\n",
    "    '4+ Seasons_pct',\n",
    "    'total'\n",
    "])\n",
    "tv_genre_season_pct"
   ]
  },
  {
   "cell_type": "code",
   "execution_count": null,
   "metadata": {},
   "outputs": [],
   "source": [
    "# Graph percentages for each genre using a stacked bar chart.\n",
    "stacked_bar_cols = ['1 Season_pct','2 Seasons_pct','3 Seasons_pct','4+ Seasons_pct']\n",
    "tv_genre_season_pct[stacked_bar_cols].sort_values(by='1 Season_pct').plot.barh(\n",
    "    stacked=True, figsize=(8,10), cmap='Accent', title='TV Show Tenure Proportion by Genre')"
   ]
  }
 ],
 "metadata": {
  "kernelspec": {
   "display_name": "Python 3",
   "language": "python",
   "name": "python3"
  },
  "language_info": {
   "codemirror_mode": {
    "name": "ipython",
    "version": 3
   },
   "file_extension": ".py",
   "mimetype": "text/x-python",
   "name": "python",
   "nbconvert_exporter": "python",
   "pygments_lexer": "ipython3",
   "version": "3.7.6"
  }
 },
 "nbformat": 4,
 "nbformat_minor": 4
}
